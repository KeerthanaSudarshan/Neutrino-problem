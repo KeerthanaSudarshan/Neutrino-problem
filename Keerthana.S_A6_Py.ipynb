{
 "cells": [
  {
   "cell_type": "markdown",
   "id": "9c33ef71",
   "metadata": {},
   "source": [
    "## Question 1: Neutrino problem ##"
   ]
  },
  {
   "cell_type": "code",
   "execution_count": 38,
   "id": "f19519e6",
   "metadata": {},
   "outputs": [],
   "source": [
    "import numpy as np\n",
    "from sympy import *\n",
    "init_printing()\n",
    "import cmath\n",
    "import matplotlib.pyplot as plt"
   ]
  },
  {
   "cell_type": "code",
   "execution_count": 39,
   "id": "f6c10efd",
   "metadata": {},
   "outputs": [],
   "source": [
    "a,b,e0 = symbols('A,B,E_0') # Define variables in the matrix"
   ]
  },
  {
   "cell_type": "code",
   "execution_count": 56,
   "id": "7608ff42",
   "metadata": {},
   "outputs": [
    {
     "data": {
      "text/latex": [
       "$\\displaystyle \\left[\\begin{matrix}E_{0} & - A & 0\\\\- A & E_{0} & - B\\\\0 & - B & E_{0}\\end{matrix}\\right]$"
      ],
      "text/plain": [
       "⎡E₀  -A  0 ⎤\n",
       "⎢          ⎥\n",
       "⎢-A  E₀  -B⎥\n",
       "⎢          ⎥\n",
       "⎣0   -B  E₀⎦"
      ]
     },
     "metadata": {},
     "output_type": "display_data"
    }
   ],
   "source": [
    "H = Matrix([[e0, -a, 0], [-a, e0, -b], [0, -b, e0]]) #Defining H as a matrix using predefined symbols\n",
    "display(H)"
   ]
  },
  {
   "cell_type": "code",
   "execution_count": 55,
   "id": "015c7066",
   "metadata": {},
   "outputs": [
    {
     "data": {
      "image/png": "[encoded data removed]",
      "text/latex": [
       "$\\displaystyle \\left\\{ E_{0} : 1, \\  E_{0} - \\sqrt{A^{2} + B^{2}} : 1, \\  E_{0} + \\sqrt{A^{2} + B^{2}} : 1\\right\\}$"
      ],
      "text/plain": [
       "⎧               _________             _________   ⎫\n",
       "⎨              ╱  2    2             ╱  2    2    ⎬\n",
       "⎩E₀: 1, E₀ - ╲╱  A  + B  : 1, E₀ + ╲╱  A  + B  : 1⎭"
      ]
     },
     "execution_count": 55,
     "metadata": {},
     "output_type": "execute_result"
    }
   ],
   "source": [
    "H.eigenvals() #get eigenvalues"
   ]
  },
  {
   "cell_type": "code",
   "execution_count": 42,
   "id": "838cd223",
   "metadata": {},
   "outputs": [
    {
     "data": {
      "text/latex": [
       "$\\displaystyle \\left[ \\left( E_{0}, \\  1, \\  \\left[ \\left[\\begin{matrix}- \\frac{B}{A}\\\\0\\\\1\\end{matrix}\\right]\\right]\\right), \\  \\left( E_{0} - \\sqrt{A^{2} + B^{2}}, \\  1, \\  \\left[ \\left[\\begin{matrix}\\frac{A}{B}\\\\\\frac{E_{0}}{B} - \\frac{E_{0} - \\sqrt{A^{2} + B^{2}}}{B}\\\\1\\end{matrix}\\right]\\right]\\right), \\  \\left( E_{0} + \\sqrt{A^{2} + B^{2}}, \\  1, \\  \\left[ \\left[\\begin{matrix}\\frac{A}{B}\\\\\\frac{E_{0}}{B} - \\frac{E_{0} + \\sqrt{A^{2} + B^{2}}}{B}\\\\1\\end{matrix}\\right]\\right]\\right)\\right]$"
      ],
      "text/plain": [
       "⎡                  ⎛                      ⎡⎡          A           ⎤⎤⎞  ⎛      \n",
       "⎢                  ⎜                      ⎢⎢          ─           ⎥⎥⎟  ⎜      \n",
       "⎢⎛       ⎡⎡-B ⎤⎤⎞  ⎜                      ⎢⎢          B           ⎥⎥⎟  ⎜      \n",
       "⎢⎜       ⎢⎢───⎥⎥⎟  ⎜        _________     ⎢⎢                      ⎥⎥⎟  ⎜      \n",
       "⎢⎜       ⎢⎢ A ⎥⎥⎟  ⎜       ╱  2    2      ⎢⎢             _________⎥⎥⎟  ⎜      \n",
       "⎢⎜E₀, 1, ⎢⎢   ⎥⎥⎟, ⎜E₀ - ╲╱  A  + B  , 1, ⎢⎢            ╱  2    2 ⎥⎥⎟, ⎜E₀ + ╲\n",
       "⎢⎜       ⎢⎢ 0 ⎥⎥⎟  ⎜                      ⎢⎢E₀   E₀ - ╲╱  A  + B  ⎥⎥⎟  ⎜      \n",
       "⎢⎜       ⎢⎢   ⎥⎥⎟  ⎜                      ⎢⎢── - ─────────────────⎥⎥⎟  ⎜      \n",
       "⎢⎝       ⎣⎣ 1 ⎦⎦⎠  ⎜                      ⎢⎢B            B        ⎥⎥⎟  ⎜      \n",
       "⎢                  ⎜                      ⎢⎢                      ⎥⎥⎟  ⎜      \n",
       "⎣                  ⎝                      ⎣⎣          1           ⎦⎦⎠  ⎝      \n",
       "\n",
       "                ⎡⎡          A           ⎤⎤⎞⎤\n",
       "                ⎢⎢          ─           ⎥⎥⎟⎥\n",
       "                ⎢⎢          B           ⎥⎥⎟⎥\n",
       "  _________     ⎢⎢                      ⎥⎥⎟⎥\n",
       " ╱  2    2      ⎢⎢             _________⎥⎥⎟⎥\n",
       "╱  A  + B  , 1, ⎢⎢            ╱  2    2 ⎥⎥⎟⎥\n",
       "                ⎢⎢E₀   E₀ + ╲╱  A  + B  ⎥⎥⎟⎥\n",
       "                ⎢⎢── - ─────────────────⎥⎥⎟⎥\n",
       "                ⎢⎢B            B        ⎥⎥⎟⎥\n",
       "                ⎢⎢                      ⎥⎥⎟⎥\n",
       "                ⎣⎣          1           ⎦⎦⎠⎦"
      ]
     },
     "execution_count": 42,
     "metadata": {},
     "output_type": "execute_result"
    }
   ],
   "source": [
    "H.eigenvects() #get eigenvectors"
   ]
  },
  {
   "cell_type": "code",
   "execution_count": 43,
   "id": "be2ce578",
   "metadata": {},
   "outputs": [],
   "source": [
    "P,D = H.diagonalize() # diagonalising map H"
   ]
  },
  {
   "cell_type": "code",
   "execution_count": 44,
   "id": "3b5916aa",
   "metadata": {},
   "outputs": [
    {
     "data": {
      "text/latex": [
       "$\\displaystyle \\left[\\begin{matrix}- \\frac{B}{A} & \\frac{A}{B} & \\frac{A}{B}\\\\0 & \\frac{\\sqrt{A^{2} + B^{2}}}{B} & - \\frac{\\sqrt{A^{2} + B^{2}}}{B}\\\\1 & 1 & 1\\end{matrix}\\right]$"
      ],
      "text/plain": [
       "⎡-B        A              A       ⎤\n",
       "⎢───       ─              ─       ⎥\n",
       "⎢ A        B              B       ⎥\n",
       "⎢                                 ⎥\n",
       "⎢        _________      _________ ⎥\n",
       "⎢       ╱  2    2      ╱  2    2  ⎥\n",
       "⎢     ╲╱  A  + B    -╲╱  A  + B   ⎥\n",
       "⎢ 0   ────────────  ──────────────⎥\n",
       "⎢          B              B       ⎥\n",
       "⎢                                 ⎥\n",
       "⎣ 1        1              1       ⎦"
      ]
     },
     "metadata": {},
     "output_type": "display_data"
    }
   ],
   "source": [
    "display(P) #Basis tranfromation matrix from eigen basis to physical basis #Matrix of each eigenvectors"
   ]
  },
  {
   "cell_type": "code",
   "execution_count": 45,
   "id": "4821d8a5",
   "metadata": {},
   "outputs": [
    {
     "data": {
      "text/latex": [
       "$\\displaystyle \\left[\\begin{matrix}E_{0} & 0 & 0\\\\0 & E_{0} - \\sqrt{A^{2} + B^{2}} & 0\\\\0 & 0 & E_{0} + \\sqrt{A^{2} + B^{2}}\\end{matrix}\\right]$"
      ],
      "text/plain": [
       "⎡E₀          0                  0        ⎤\n",
       "⎢                                        ⎥\n",
       "⎢            _________                   ⎥\n",
       "⎢           ╱  2    2                    ⎥\n",
       "⎢0   E₀ - ╲╱  A  + B            0        ⎥\n",
       "⎢                                        ⎥\n",
       "⎢                               _________⎥\n",
       "⎢                              ╱  2    2 ⎥\n",
       "⎣0           0          E₀ + ╲╱  A  + B  ⎦"
      ]
     },
     "metadata": {},
     "output_type": "display_data"
    }
   ],
   "source": [
    "display(D) #Diagonalized map of H in eigen basis"
   ]
  },
  {
   "cell_type": "code",
   "execution_count": 46,
   "id": "299c9c9d",
   "metadata": {},
   "outputs": [
    {
     "data": {
      "text/latex": [
       "$\\displaystyle \\left[\\begin{matrix}- \\frac{A B}{A^{2} + B^{2}} & 0 & \\frac{A^{2}}{A^{2} + B^{2}}\\\\\\frac{A B}{2 \\left(A^{2} + B^{2}\\right)} & \\frac{B}{2 \\sqrt{A^{2} + B^{2}}} & \\frac{B^{2}}{2 \\left(A^{2} + B^{2}\\right)}\\\\\\frac{A B}{2 \\left(A^{2} + B^{2}\\right)} & - \\frac{B}{2 \\sqrt{A^{2} + B^{2}}} & \\frac{B^{2}}{2 \\left(A^{2} + B^{2}\\right)}\\end{matrix}\\right]$"
      ],
      "text/plain": [
       "⎡                                   2    ⎤\n",
       "⎢   -A⋅B                           A     ⎥\n",
       "⎢  ───────          0           ───────  ⎥\n",
       "⎢   2    2                       2    2  ⎥\n",
       "⎢  A  + B                       A  + B   ⎥\n",
       "⎢                                        ⎥\n",
       "⎢                                   2    ⎥\n",
       "⎢    A⋅B            B              B     ⎥\n",
       "⎢───────────  ──────────────  ───────────⎥\n",
       "⎢  ⎛ 2    2⎞       _________    ⎛ 2    2⎞⎥\n",
       "⎢2⋅⎝A  + B ⎠      ╱  2    2   2⋅⎝A  + B ⎠⎥\n",
       "⎢             2⋅╲╱  A  + B               ⎥\n",
       "⎢                                        ⎥\n",
       "⎢                                   2    ⎥\n",
       "⎢    A⋅B           -B              B     ⎥\n",
       "⎢───────────  ──────────────  ───────────⎥\n",
       "⎢  ⎛ 2    2⎞       _________    ⎛ 2    2⎞⎥\n",
       "⎢2⋅⎝A  + B ⎠      ╱  2    2   2⋅⎝A  + B ⎠⎥\n",
       "⎣             2⋅╲╱  A  + B               ⎦"
      ]
     },
     "execution_count": 46,
     "metadata": {},
     "output_type": "execute_result"
    }
   ],
   "source": [
    "simplify(P.inv())"
   ]
  },
  {
   "cell_type": "code",
   "execution_count": 47,
   "id": "2a9b79d2",
   "metadata": {},
   "outputs": [
    {
     "data": {
      "text/plain": [
       "True"
      ]
     },
     "execution_count": 47,
     "metadata": {},
     "output_type": "execute_result"
    }
   ],
   "source": [
    "Pinv = simplify(P.inv()) #Define Pinv as the inverse\n",
    "simplify(P*D*P.inv()) == H #Verify that this is equal to H"
   ]
  },
  {
   "cell_type": "code",
   "execution_count": 48,
   "id": "3d9e2a52",
   "metadata": {},
   "outputs": [],
   "source": [
    "h,t = symbols('\\hbar,t')"
   ]
  },
  {
   "cell_type": "code",
   "execution_count": 49,
   "id": "73c42acb",
   "metadata": {},
   "outputs": [],
   "source": [
    "# V1, V2, and V3 represent the the three solutions (the exponentials containing the three eigenvalues).\n",
    "V1, V2, V3 = symbols('V_1, V_2, V_3')"
   ]
  },
  {
   "cell_type": "code",
   "execution_count": 50,
   "id": "bc595ac6",
   "metadata": {},
   "outputs": [
    {
     "data": {
      "text/latex": [
       "$\\displaystyle \\left[\\begin{matrix}V_{1} & 0 & 0\\\\0 & V_{2} & 0\\\\0 & 0 & V_{3}\\end{matrix}\\right]$"
      ],
      "text/plain": [
       "⎡V₁  0   0 ⎤\n",
       "⎢          ⎥\n",
       "⎢0   V₂  0 ⎥\n",
       "⎢          ⎥\n",
       "⎣0   0   V₃⎦"
      ]
     },
     "metadata": {},
     "output_type": "display_data"
    }
   ],
   "source": [
    "#Composing the diagonal matrix containing the three solutions.\n",
    "U = Matrix([[V1, 0, 0], [0, V2, 0], [0, 0, V3]])\n",
    "display(U)"
   ]
  },
  {
   "cell_type": "code",
   "execution_count": 51,
   "id": "12898670",
   "metadata": {},
   "outputs": [
    {
     "data": {
      "text/latex": [
       "$\\displaystyle \\left[\\begin{matrix}\\frac{\\frac{A^{2} \\left(V_{2} + V_{3}\\right)}{2} + B^{2} V_{1}}{A^{2} + B^{2}} & \\frac{A \\left(V_{2} - V_{3}\\right)}{2 \\sqrt{A^{2} + B^{2}}} & \\frac{A B \\left(- 2 V_{1} + V_{2} + V_{3}\\right)}{2 \\left(A^{2} + B^{2}\\right)}\\\\\\frac{A \\left(V_{2} - V_{3}\\right)}{2 \\sqrt{A^{2} + B^{2}}} & \\frac{V_{2}}{2} + \\frac{V_{3}}{2} & \\frac{B \\left(V_{2} - V_{3}\\right)}{2 \\sqrt{A^{2} + B^{2}}}\\\\\\frac{A B \\left(- 2 V_{1} + V_{2} + V_{3}\\right)}{2 \\left(A^{2} + B^{2}\\right)} & \\frac{B \\left(V_{2} - V_{3}\\right)}{2 \\sqrt{A^{2} + B^{2}}} & \\frac{A^{2} V_{1} + \\frac{B^{2} \\left(V_{2} + V_{3}\\right)}{2}}{A^{2} + B^{2}}\\end{matrix}\\right]$"
      ],
      "text/plain": [
       "⎡ 2                                                          ⎤\n",
       "⎢A ⋅(V₂ + V₃)    2                                           ⎥\n",
       "⎢──────────── + B ⋅V₁                                        ⎥\n",
       "⎢     2                  A⋅(V₂ - V₃)    A⋅B⋅(-2⋅V₁ + V₂ + V₃)⎥\n",
       "⎢────────────────────   ──────────────  ─────────────────────⎥\n",
       "⎢       2    2               _________         ⎛ 2    2⎞     ⎥\n",
       "⎢      A  + B               ╱  2    2        2⋅⎝A  + B ⎠     ⎥\n",
       "⎢                       2⋅╲╱  A  + B                         ⎥\n",
       "⎢                                                            ⎥\n",
       "⎢    A⋅(V₂ - V₃)           V₂   V₃          B⋅(V₂ - V₃)      ⎥\n",
       "⎢   ──────────────         ── + ──         ──────────────    ⎥\n",
       "⎢        _________         2    2               _________    ⎥\n",
       "⎢       ╱  2    2                              ╱  2    2     ⎥\n",
       "⎢   2⋅╲╱  A  + B                           2⋅╲╱  A  + B      ⎥\n",
       "⎢                                                            ⎥\n",
       "⎢                                                2           ⎥\n",
       "⎢                                        2      B ⋅(V₂ + V₃) ⎥\n",
       "⎢                                       A ⋅V₁ + ──────────── ⎥\n",
       "⎢A⋅B⋅(-2⋅V₁ + V₂ + V₃)   B⋅(V₂ - V₃)                 2       ⎥\n",
       "⎢─────────────────────  ──────────────  ──────────────────── ⎥\n",
       "⎢       ⎛ 2    2⎞            _________         2    2        ⎥\n",
       "⎢     2⋅⎝A  + B ⎠           ╱  2    2         A  + B         ⎥\n",
       "⎣                       2⋅╲╱  A  + B                         ⎦"
      ]
     },
     "metadata": {},
     "output_type": "display_data"
    }
   ],
   "source": [
    "#Calculating the matrix P*UP*^-1 to get the matrix that takes the initial conditions and gives the equations of psi(t).\n",
    "PUPinv = simplify(P*U*P.inv())\n",
    "display(PUPinv)"
   ]
  },
  {
   "cell_type": "code",
   "execution_count": 52,
   "id": "3d9be8b2",
   "metadata": {},
   "outputs": [
    {
     "data": {
      "text/latex": [
       "$\\displaystyle \\left[\\begin{matrix}\\frac{\\frac{A^{2} \\left(V_{2} + V_{3}\\right)}{2} + B^{2} V_{1}}{A^{2} + B^{2}}\\\\\\frac{A \\left(V_{2} - V_{3}\\right)}{2 \\sqrt{A^{2} + B^{2}}}\\\\\\frac{A B \\left(- 2 V_{1} + V_{2} + V_{3}\\right)}{2 \\left(A^{2} + B^{2}\\right)}\\end{matrix}\\right]$"
      ],
      "text/plain": [
       "⎡ 2                   ⎤\n",
       "⎢A ⋅(V₂ + V₃)    2    ⎥\n",
       "⎢──────────── + B ⋅V₁ ⎥\n",
       "⎢     2               ⎥\n",
       "⎢──────────────────── ⎥\n",
       "⎢       2    2        ⎥\n",
       "⎢      A  + B         ⎥\n",
       "⎢                     ⎥\n",
       "⎢    A⋅(V₂ - V₃)      ⎥\n",
       "⎢   ──────────────    ⎥\n",
       "⎢        _________    ⎥\n",
       "⎢       ╱  2    2     ⎥\n",
       "⎢   2⋅╲╱  A  + B      ⎥\n",
       "⎢                     ⎥\n",
       "⎢A⋅B⋅(-2⋅V₁ + V₂ + V₃)⎥\n",
       "⎢─────────────────────⎥\n",
       "⎢       ⎛ 2    2⎞     ⎥\n",
       "⎣     2⋅⎝A  + B ⎠     ⎦"
      ]
     },
     "metadata": {},
     "output_type": "display_data"
    }
   ],
   "source": [
    "#Calculating the equations of psi(t) with the initial conditions (1,0,0).\n",
    "init = Matrix([1, 0, 0])\n",
    "int_pupinv = simplify(PUPinv*init)\n",
    "display(int_pupinv)"
   ]
  },
  {
   "cell_type": "code",
   "execution_count": 59,
   "id": "60b9e566",
   "metadata": {},
   "outputs": [
    {
     "data": {
      "image/png": "[encoded data removed]",
      "text/plain": [
       "<Figure size 432x288 with 1 Axes>"
      ]
     },
     "metadata": {
      "needs_background": "light"
     },
     "output_type": "display_data"
    }
   ],
   "source": [
    "#Plotting the probability of psi()\n",
    "\n",
    "def phielec(kt):\n",
    "    return (0.5*np.cos(kt)+0.5)**2\n",
    "\n",
    "def phimu(kt):\n",
    "    return (np.sin(kt)/np.sqrt(2))**2\n",
    "\n",
    "def phitau(kt):\n",
    "    return (0.5*np.cos(kt)-0.5)**2\n",
    "\n",
    "\n",
    "kt = np.arange(0, 6*np.pi, 0.0001)\n",
    "\n",
    "\n",
    "plt.plot(kt, phielec(kt), '-r', label='Electron neutrino')\n",
    "plt.plot(kt, phimu(kt), '-b', label='Muon neutrino')\n",
    "plt.plot(kt, phitau(kt), '-c', label='Tau neutrino')\n",
    "plt.title(\"Plot of probability of psi(t) versus kt for electron, muon and tau neutrinos\")\n",
    "plt.xlabel(\"kt\")\n",
    "plt.ylabel(\"modulus squared of psi(t)\")\n",
    "plt.legend()\n",
    "plt.show()"
   ]
  },
  {
   "cell_type": "code",
   "execution_count": null,
   "id": "2f910128",
   "metadata": {},
   "outputs": [],
   "source": []
  }
 ],
 "metadata": {
  "kernelspec": {
   "display_name": "Python 3 (ipykernel)",
   "language": "python",
   "name": "python3"
  },
  "language_info": {
   "codemirror_mode": {
    "name": "ipython",
    "version": 3
   },
   "file_extension": ".py",
   "mimetype": "text/x-python",
   "name": "python",
   "nbconvert_exporter": "python",
   "pygments_lexer": "ipython3",
   "version": "3.9.7"
  }
 },
 "nbformat": 4,
 "nbformat_minor": 5
}
